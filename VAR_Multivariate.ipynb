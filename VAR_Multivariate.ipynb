{
  "nbformat": 4,
  "nbformat_minor": 0,
  "metadata": {
    "colab": {
      "name": "VAR-Multivariate.ipynb",
      "provenance": [],
      "collapsed_sections": [],
      "authorship_tag": "ABX9TyMw4ZPmPxl+xXTFRfE8tgjE",
      "include_colab_link": true
    },
    "kernelspec": {
      "name": "python3",
      "display_name": "Python 3"
    },
    "language_info": {
      "name": "python"
    }
  },
  "cells": [
    {
      "cell_type": "markdown",
      "metadata": {
        "id": "view-in-github",
        "colab_type": "text"
      },
      "source": [
        "<a href=\"https://colab.research.google.com/github/ttezy/Time-Sequence-Analysis/blob/main/VAR_Multivariate.ipynb\" target=\"_parent\"><img src=\"https://colab.research.google.com/assets/colab-badge.svg\" alt=\"Open In Colab\"/></a>"
      ]
    },
    {
      "cell_type": "markdown",
      "metadata": {
        "id": "b8lVyLpj-hZS"
      },
      "source": [
        "# **Step 1: Load data**"
      ]
    },
    {
      "cell_type": "markdown",
      "metadata": {
        "id": "fzV20K6HktZl"
      },
      "source": [
        "## **Import libs**"
      ]
    },
    {
      "cell_type": "code",
      "metadata": {
        "colab": {
          "base_uri": "https://localhost:8080/"
        },
        "id": "-l70SkNiiAg2",
        "outputId": "8428dcc6-4d10-4c1b-d605-fffd93788ede"
      },
      "source": [
        "import pandas as pd\n",
        "import matplotlib as mpl\n",
        "import matplotlib.pyplot as plt\n",
        "\n",
        "from pandas import DataFrame\n",
        "from pandas import concat\n",
        "from sklearn.preprocessing import LabelEncoder\n",
        "\n",
        "import numpy as np\n",
        "\n",
        "from statsmodels.tsa.stattools import grangercausalitytests\n",
        "from statsmodels.tsa.stattools import adfuller\n",
        "import statsmodels.api as sm\n",
        "from statsmodels.tsa.api import VAR\n",
        "\n",
        "mpl.rcParams['figure.figsize'] = (10, 8)\n",
        "mpl.rcParams['axes.grid'] = False"
      ],
      "execution_count": 1,
      "outputs": [
        {
          "output_type": "stream",
          "text": [
            "/usr/local/lib/python3.7/dist-packages/statsmodels/tools/_testing.py:19: FutureWarning: pandas.util.testing is deprecated. Use the functions in the public API at pandas.testing instead.\n",
            "  import pandas.util.testing as tm\n"
          ],
          "name": "stderr"
        }
      ]
    },
    {
      "cell_type": "markdown",
      "metadata": {
        "id": "q_2mELW4krSt"
      },
      "source": [
        "## **Load dataset**"
      ]
    },
    {
      "cell_type": "code",
      "metadata": {
        "colab": {
          "base_uri": "https://localhost:8080/",
          "height": 450
        },
        "id": "c9fUIddfiX9C",
        "outputId": "ed36b232-6d4b-4f13-f270-bb5d1d4fcf7a"
      },
      "source": [
        "df=pd.read_csv('pollution.csv',header=0, index_col=0)\n",
        "df"
      ],
      "execution_count": 2,
      "outputs": [
        {
          "output_type": "execute_result",
          "data": {
            "text/html": [
              "<div>\n",
              "<style scoped>\n",
              "    .dataframe tbody tr th:only-of-type {\n",
              "        vertical-align: middle;\n",
              "    }\n",
              "\n",
              "    .dataframe tbody tr th {\n",
              "        vertical-align: top;\n",
              "    }\n",
              "\n",
              "    .dataframe thead th {\n",
              "        text-align: right;\n",
              "    }\n",
              "</style>\n",
              "<table border=\"1\" class=\"dataframe\">\n",
              "  <thead>\n",
              "    <tr style=\"text-align: right;\">\n",
              "      <th></th>\n",
              "      <th>pollution</th>\n",
              "      <th>dew</th>\n",
              "      <th>temp</th>\n",
              "      <th>press</th>\n",
              "      <th>wnd_dir</th>\n",
              "      <th>wnd_spd</th>\n",
              "      <th>snow</th>\n",
              "      <th>rain</th>\n",
              "    </tr>\n",
              "    <tr>\n",
              "      <th>date</th>\n",
              "      <th></th>\n",
              "      <th></th>\n",
              "      <th></th>\n",
              "      <th></th>\n",
              "      <th></th>\n",
              "      <th></th>\n",
              "      <th></th>\n",
              "      <th></th>\n",
              "    </tr>\n",
              "  </thead>\n",
              "  <tbody>\n",
              "    <tr>\n",
              "      <th>2010-01-01 00:00:00</th>\n",
              "      <td>0.0</td>\n",
              "      <td>-21</td>\n",
              "      <td>-11.0</td>\n",
              "      <td>1021.0</td>\n",
              "      <td>NW</td>\n",
              "      <td>1.79</td>\n",
              "      <td>0</td>\n",
              "      <td>0</td>\n",
              "    </tr>\n",
              "    <tr>\n",
              "      <th>2010-01-01 01:00:00</th>\n",
              "      <td>0.0</td>\n",
              "      <td>-21</td>\n",
              "      <td>-12.0</td>\n",
              "      <td>1020.0</td>\n",
              "      <td>NW</td>\n",
              "      <td>4.92</td>\n",
              "      <td>0</td>\n",
              "      <td>0</td>\n",
              "    </tr>\n",
              "    <tr>\n",
              "      <th>2010-01-01 02:00:00</th>\n",
              "      <td>0.0</td>\n",
              "      <td>-21</td>\n",
              "      <td>-11.0</td>\n",
              "      <td>1019.0</td>\n",
              "      <td>NW</td>\n",
              "      <td>6.71</td>\n",
              "      <td>0</td>\n",
              "      <td>0</td>\n",
              "    </tr>\n",
              "    <tr>\n",
              "      <th>2010-01-01 03:00:00</th>\n",
              "      <td>0.0</td>\n",
              "      <td>-21</td>\n",
              "      <td>-14.0</td>\n",
              "      <td>1019.0</td>\n",
              "      <td>NW</td>\n",
              "      <td>9.84</td>\n",
              "      <td>0</td>\n",
              "      <td>0</td>\n",
              "    </tr>\n",
              "    <tr>\n",
              "      <th>2010-01-01 04:00:00</th>\n",
              "      <td>0.0</td>\n",
              "      <td>-20</td>\n",
              "      <td>-12.0</td>\n",
              "      <td>1018.0</td>\n",
              "      <td>NW</td>\n",
              "      <td>12.97</td>\n",
              "      <td>0</td>\n",
              "      <td>0</td>\n",
              "    </tr>\n",
              "    <tr>\n",
              "      <th>...</th>\n",
              "      <td>...</td>\n",
              "      <td>...</td>\n",
              "      <td>...</td>\n",
              "      <td>...</td>\n",
              "      <td>...</td>\n",
              "      <td>...</td>\n",
              "      <td>...</td>\n",
              "      <td>...</td>\n",
              "    </tr>\n",
              "    <tr>\n",
              "      <th>2014-12-31 19:00:00</th>\n",
              "      <td>8.0</td>\n",
              "      <td>-23</td>\n",
              "      <td>-2.0</td>\n",
              "      <td>1034.0</td>\n",
              "      <td>NW</td>\n",
              "      <td>231.97</td>\n",
              "      <td>0</td>\n",
              "      <td>0</td>\n",
              "    </tr>\n",
              "    <tr>\n",
              "      <th>2014-12-31 20:00:00</th>\n",
              "      <td>10.0</td>\n",
              "      <td>-22</td>\n",
              "      <td>-3.0</td>\n",
              "      <td>1034.0</td>\n",
              "      <td>NW</td>\n",
              "      <td>237.78</td>\n",
              "      <td>0</td>\n",
              "      <td>0</td>\n",
              "    </tr>\n",
              "    <tr>\n",
              "      <th>2014-12-31 21:00:00</th>\n",
              "      <td>10.0</td>\n",
              "      <td>-22</td>\n",
              "      <td>-3.0</td>\n",
              "      <td>1034.0</td>\n",
              "      <td>NW</td>\n",
              "      <td>242.70</td>\n",
              "      <td>0</td>\n",
              "      <td>0</td>\n",
              "    </tr>\n",
              "    <tr>\n",
              "      <th>2014-12-31 22:00:00</th>\n",
              "      <td>8.0</td>\n",
              "      <td>-22</td>\n",
              "      <td>-4.0</td>\n",
              "      <td>1034.0</td>\n",
              "      <td>NW</td>\n",
              "      <td>246.72</td>\n",
              "      <td>0</td>\n",
              "      <td>0</td>\n",
              "    </tr>\n",
              "    <tr>\n",
              "      <th>2014-12-31 23:00:00</th>\n",
              "      <td>12.0</td>\n",
              "      <td>-21</td>\n",
              "      <td>-3.0</td>\n",
              "      <td>1034.0</td>\n",
              "      <td>NW</td>\n",
              "      <td>249.85</td>\n",
              "      <td>0</td>\n",
              "      <td>0</td>\n",
              "    </tr>\n",
              "  </tbody>\n",
              "</table>\n",
              "<p>43824 rows × 8 columns</p>\n",
              "</div>"
            ],
            "text/plain": [
              "                     pollution  dew  temp   press wnd_dir  wnd_spd  snow  rain\n",
              "date                                                                          \n",
              "2010-01-01 00:00:00        0.0  -21 -11.0  1021.0      NW     1.79     0     0\n",
              "2010-01-01 01:00:00        0.0  -21 -12.0  1020.0      NW     4.92     0     0\n",
              "2010-01-01 02:00:00        0.0  -21 -11.0  1019.0      NW     6.71     0     0\n",
              "2010-01-01 03:00:00        0.0  -21 -14.0  1019.0      NW     9.84     0     0\n",
              "2010-01-01 04:00:00        0.0  -20 -12.0  1018.0      NW    12.97     0     0\n",
              "...                        ...  ...   ...     ...     ...      ...   ...   ...\n",
              "2014-12-31 19:00:00        8.0  -23  -2.0  1034.0      NW   231.97     0     0\n",
              "2014-12-31 20:00:00       10.0  -22  -3.0  1034.0      NW   237.78     0     0\n",
              "2014-12-31 21:00:00       10.0  -22  -3.0  1034.0      NW   242.70     0     0\n",
              "2014-12-31 22:00:00        8.0  -22  -4.0  1034.0      NW   246.72     0     0\n",
              "2014-12-31 23:00:00       12.0  -21  -3.0  1034.0      NW   249.85     0     0\n",
              "\n",
              "[43824 rows x 8 columns]"
            ]
          },
          "metadata": {
            "tags": []
          },
          "execution_count": 2
        }
      ]
    },
    {
      "cell_type": "markdown",
      "metadata": {
        "id": "dcYeHGGqkwtG"
      },
      "source": [
        "## **Visualize data**"
      ]
    },
    {
      "cell_type": "code",
      "metadata": {
        "colab": {
          "base_uri": "https://localhost:8080/",
          "height": 268
        },
        "id": "GpBNYi_gkzWW",
        "outputId": "583a4c74-53b0-491f-f43d-33b4e0ba44ad"
      },
      "source": [
        "values = df.values\n",
        "# specify columns to plot\n",
        "groups = [0, 1, 2, 3, 5, 6, 7]\n",
        "i = 1\n",
        "# plot each column\n",
        "plt.figure()\n",
        "for group in groups:\n",
        "    plt.subplot(len(groups), 1, i)\n",
        "    plt.plot(values[:, group])\n",
        "    plt.title(df.columns[group], y=0.5, loc='right')\n",
        "    i += 1\n",
        "plt.show()"
      ],
      "execution_count": 3,
      "outputs": [
        {
          "output_type": "display_data",
          "data": {
            "image/png": "[encoded data removed]",
            "text/plain": [
              "<Figure size 432x288 with 7 Axes>"
            ]
          },
          "metadata": {
            "tags": [],
            "needs_background": "light"
          }
        }
      ]
    },
    {
      "cell_type": "markdown",
      "metadata": {
        "id": "gUt_ZSox-snz"
      },
      "source": [
        "# **Step 2: Data Property Analysis**"
      ]
    },
    {
      "cell_type": "markdown",
      "metadata": {
        "id": "tGrVmbyflS6D"
      },
      "source": [
        "## **Encode wind direction**"
      ]
    },
    {
      "cell_type": "code",
      "metadata": {
        "colab": {
          "base_uri": "https://localhost:8080/",
          "height": 235
        },
        "id": "ZPbyFthglRuE",
        "outputId": "63b78e22-ea5d-44f6-f010-48408450e7f2"
      },
      "source": [
        "# integer encode direction\n",
        "encoder = LabelEncoder()\n",
        "values[:, 4] = encoder.fit_transform(values[:, 4])\n",
        "# ensure all data is float\n",
        "values = values.astype('float32')\n",
        "\n",
        "df['wnd_dir'] = values[:, 4]\n",
        "\n",
        "df.head()"
      ],
      "execution_count": 4,
      "outputs": [
        {
          "output_type": "execute_result",
          "data": {
            "text/html": [
              "<div>\n",
              "<style scoped>\n",
              "    .dataframe tbody tr th:only-of-type {\n",
              "        vertical-align: middle;\n",
              "    }\n",
              "\n",
              "    .dataframe tbody tr th {\n",
              "        vertical-align: top;\n",
              "    }\n",
              "\n",
              "    .dataframe thead th {\n",
              "        text-align: right;\n",
              "    }\n",
              "</style>\n",
              "<table border=\"1\" class=\"dataframe\">\n",
              "  <thead>\n",
              "    <tr style=\"text-align: right;\">\n",
              "      <th></th>\n",
              "      <th>pollution</th>\n",
              "      <th>dew</th>\n",
              "      <th>temp</th>\n",
              "      <th>press</th>\n",
              "      <th>wnd_dir</th>\n",
              "      <th>wnd_spd</th>\n",
              "      <th>snow</th>\n",
              "      <th>rain</th>\n",
              "    </tr>\n",
              "    <tr>\n",
              "      <th>date</th>\n",
              "      <th></th>\n",
              "      <th></th>\n",
              "      <th></th>\n",
              "      <th></th>\n",
              "      <th></th>\n",
              "      <th></th>\n",
              "      <th></th>\n",
              "      <th></th>\n",
              "    </tr>\n",
              "  </thead>\n",
              "  <tbody>\n",
              "    <tr>\n",
              "      <th>2010-01-01 00:00:00</th>\n",
              "      <td>0.0</td>\n",
              "      <td>-21</td>\n",
              "      <td>-11.0</td>\n",
              "      <td>1021.0</td>\n",
              "      <td>1.0</td>\n",
              "      <td>1.79</td>\n",
              "      <td>0</td>\n",
              "      <td>0</td>\n",
              "    </tr>\n",
              "    <tr>\n",
              "      <th>2010-01-01 01:00:00</th>\n",
              "      <td>0.0</td>\n",
              "      <td>-21</td>\n",
              "      <td>-12.0</td>\n",
              "      <td>1020.0</td>\n",
              "      <td>1.0</td>\n",
              "      <td>4.92</td>\n",
              "      <td>0</td>\n",
              "      <td>0</td>\n",
              "    </tr>\n",
              "    <tr>\n",
              "      <th>2010-01-01 02:00:00</th>\n",
              "      <td>0.0</td>\n",
              "      <td>-21</td>\n",
              "      <td>-11.0</td>\n",
              "      <td>1019.0</td>\n",
              "      <td>1.0</td>\n",
              "      <td>6.71</td>\n",
              "      <td>0</td>\n",
              "      <td>0</td>\n",
              "    </tr>\n",
              "    <tr>\n",
              "      <th>2010-01-01 03:00:00</th>\n",
              "      <td>0.0</td>\n",
              "      <td>-21</td>\n",
              "      <td>-14.0</td>\n",
              "      <td>1019.0</td>\n",
              "      <td>1.0</td>\n",
              "      <td>9.84</td>\n",
              "      <td>0</td>\n",
              "      <td>0</td>\n",
              "    </tr>\n",
              "    <tr>\n",
              "      <th>2010-01-01 04:00:00</th>\n",
              "      <td>0.0</td>\n",
              "      <td>-20</td>\n",
              "      <td>-12.0</td>\n",
              "      <td>1018.0</td>\n",
              "      <td>1.0</td>\n",
              "      <td>12.97</td>\n",
              "      <td>0</td>\n",
              "      <td>0</td>\n",
              "    </tr>\n",
              "  </tbody>\n",
              "</table>\n",
              "</div>"
            ],
            "text/plain": [
              "                     pollution  dew  temp   press  wnd_dir  wnd_spd  snow  rain\n",
              "date                                                                           \n",
              "2010-01-01 00:00:00        0.0  -21 -11.0  1021.0      1.0     1.79     0     0\n",
              "2010-01-01 01:00:00        0.0  -21 -12.0  1020.0      1.0     4.92     0     0\n",
              "2010-01-01 02:00:00        0.0  -21 -11.0  1019.0      1.0     6.71     0     0\n",
              "2010-01-01 03:00:00        0.0  -21 -14.0  1019.0      1.0     9.84     0     0\n",
              "2010-01-01 04:00:00        0.0  -20 -12.0  1018.0      1.0    12.97     0     0"
            ]
          },
          "metadata": {
            "tags": []
          },
          "execution_count": 4
        }
      ]
    },
    {
      "cell_type": "markdown",
      "metadata": {
        "id": "WOXL0nWbo_jy"
      },
      "source": [
        "## **Check stationary or not**"
      ]
    },
    {
      "cell_type": "code",
      "metadata": {
        "colab": {
          "base_uri": "https://localhost:8080/"
        },
        "id": "r0iB3X1Yms8K",
        "outputId": "b45accd9-a298-40c0-d729-29f03506003d"
      },
      "source": [
        "for i in range(len(df.columns)):\n",
        "  result = adfuller(df[df.columns[i]])\n",
        "\n",
        "  if result[1] > 0.05 :\n",
        "    print('{} - Series is not Stationary'.format(df.columns[i]))\n",
        "  else:\n",
        "    print('{} - Series is Stationary'.format(df.columns[i]))"
      ],
      "execution_count": 5,
      "outputs": [
        {
          "output_type": "stream",
          "text": [
            "pollution - Series is Stationary\n",
            "dew - Series is Stationary\n",
            "temp - Series is Stationary\n",
            "press - Series is Stationary\n",
            "wnd_dir - Series is Stationary\n",
            "wnd_spd - Series is Stationary\n",
            "snow - Series is Stationary\n",
            "rain - Series is Stationary\n"
          ],
          "name": "stdout"
        }
      ]
    },
    {
      "cell_type": "markdown",
      "metadata": {
        "id": "s3zlCCti8LML"
      },
      "source": [
        "## **Choose lag = 8 and show P_values**"
      ]
    },
    {
      "cell_type": "code",
      "metadata": {
        "id": "-elhUapfpwZz"
      },
      "source": [
        "max_lags=8  # modify here to choose the lag\n",
        "y='pollution'"
      ],
      "execution_count": 6,
      "outputs": []
    },
    {
      "cell_type": "code",
      "metadata": {
        "colab": {
          "base_uri": "https://localhost:8080/"
        },
        "id": "wiNLZXWfpyWC",
        "outputId": "d3978fc3-6003-4d82-db3e-0509dd51379e"
      },
      "source": [
        "for i in range(len(df.columns)-1):\n",
        "  results=grangercausalitytests(df[[y,df.columns[i+1]]], max_lags, verbose=False)\n",
        "  p_values=[round(results[i+1][0]['ssr_ftest'][1],4) for i in range(max_lags)]\n",
        "  print('Column - {} : P_Values - {}'.format(df.columns[i+1],p_values))"
      ],
      "execution_count": 7,
      "outputs": [
        {
          "output_type": "stream",
          "text": [
            "Column - dew : P_Values - [0.0006, 0.0, 0.0, 0.0, 0.0, 0.0, 0.0, 0.0]\n",
            "Column - temp : P_Values - [0.0047, 0.0, 0.0, 0.0, 0.0, 0.0, 0.0, 0.0]\n",
            "Column - press : P_Values - [0.7517, 0.0933, 0.0001, 0.0, 0.0, 0.0, 0.0, 0.0]\n",
            "Column - wnd_dir : P_Values - [0.0, 0.0, 0.0, 0.0, 0.0, 0.0, 0.0, 0.0]\n",
            "Column - wnd_spd : P_Values - [0.0, 0.0, 0.0, 0.0, 0.0, 0.0, 0.0, 0.0]\n",
            "Column - snow : P_Values - [0.135, 0.3248, 0.2946, 0.4104, 0.419, 0.5307, 0.616, 0.6595]\n",
            "Column - rain : P_Values - [0.0, 0.0, 0.0, 0.0, 0.0, 0.0, 0.0, 0.0]\n"
          ],
          "name": "stdout"
        }
      ]
    },
    {
      "cell_type": "markdown",
      "metadata": {
        "id": "MFXDqkgwxZbU"
      },
      "source": [
        "## **Choose the input data**"
      ]
    },
    {
      "cell_type": "code",
      "metadata": {
        "colab": {
          "base_uri": "https://localhost:8080/",
          "height": 450
        },
        "id": "HxdntxYIqxk8",
        "outputId": "fa0c27f2-224a-46b1-fc9b-42c7bbf28960"
      },
      "source": [
        "df_input=df[['pollution','dew','temp', 'press', 'wnd_dir', 'wnd_spd', 'snow', 'rain']]  # modify here to choose the variate\n",
        "df_input"
      ],
      "execution_count": 8,
      "outputs": [
        {
          "output_type": "execute_result",
          "data": {
            "text/html": [
              "<div>\n",
              "<style scoped>\n",
              "    .dataframe tbody tr th:only-of-type {\n",
              "        vertical-align: middle;\n",
              "    }\n",
              "\n",
              "    .dataframe tbody tr th {\n",
              "        vertical-align: top;\n",
              "    }\n",
              "\n",
              "    .dataframe thead th {\n",
              "        text-align: right;\n",
              "    }\n",
              "</style>\n",
              "<table border=\"1\" class=\"dataframe\">\n",
              "  <thead>\n",
              "    <tr style=\"text-align: right;\">\n",
              "      <th></th>\n",
              "      <th>pollution</th>\n",
              "      <th>dew</th>\n",
              "      <th>temp</th>\n",
              "      <th>press</th>\n",
              "      <th>wnd_dir</th>\n",
              "      <th>wnd_spd</th>\n",
              "      <th>snow</th>\n",
              "      <th>rain</th>\n",
              "    </tr>\n",
              "    <tr>\n",
              "      <th>date</th>\n",
              "      <th></th>\n",
              "      <th></th>\n",
              "      <th></th>\n",
              "      <th></th>\n",
              "      <th></th>\n",
              "      <th></th>\n",
              "      <th></th>\n",
              "      <th></th>\n",
              "    </tr>\n",
              "  </thead>\n",
              "  <tbody>\n",
              "    <tr>\n",
              "      <th>2010-01-01 00:00:00</th>\n",
              "      <td>0.0</td>\n",
              "      <td>-21</td>\n",
              "      <td>-11.0</td>\n",
              "      <td>1021.0</td>\n",
              "      <td>1.0</td>\n",
              "      <td>1.79</td>\n",
              "      <td>0</td>\n",
              "      <td>0</td>\n",
              "    </tr>\n",
              "    <tr>\n",
              "      <th>2010-01-01 01:00:00</th>\n",
              "      <td>0.0</td>\n",
              "      <td>-21</td>\n",
              "      <td>-12.0</td>\n",
              "      <td>1020.0</td>\n",
              "      <td>1.0</td>\n",
              "      <td>4.92</td>\n",
              "      <td>0</td>\n",
              "      <td>0</td>\n",
              "    </tr>\n",
              "    <tr>\n",
              "      <th>2010-01-01 02:00:00</th>\n",
              "      <td>0.0</td>\n",
              "      <td>-21</td>\n",
              "      <td>-11.0</td>\n",
              "      <td>1019.0</td>\n",
              "      <td>1.0</td>\n",
              "      <td>6.71</td>\n",
              "      <td>0</td>\n",
              "      <td>0</td>\n",
              "    </tr>\n",
              "    <tr>\n",
              "      <th>2010-01-01 03:00:00</th>\n",
              "      <td>0.0</td>\n",
              "      <td>-21</td>\n",
              "      <td>-14.0</td>\n",
              "      <td>1019.0</td>\n",
              "      <td>1.0</td>\n",
              "      <td>9.84</td>\n",
              "      <td>0</td>\n",
              "      <td>0</td>\n",
              "    </tr>\n",
              "    <tr>\n",
              "      <th>2010-01-01 04:00:00</th>\n",
              "      <td>0.0</td>\n",
              "      <td>-20</td>\n",
              "      <td>-12.0</td>\n",
              "      <td>1018.0</td>\n",
              "      <td>1.0</td>\n",
              "      <td>12.97</td>\n",
              "      <td>0</td>\n",
              "      <td>0</td>\n",
              "    </tr>\n",
              "    <tr>\n",
              "      <th>...</th>\n",
              "      <td>...</td>\n",
              "      <td>...</td>\n",
              "      <td>...</td>\n",
              "      <td>...</td>\n",
              "      <td>...</td>\n",
              "      <td>...</td>\n",
              "      <td>...</td>\n",
              "      <td>...</td>\n",
              "    </tr>\n",
              "    <tr>\n",
              "      <th>2014-12-31 19:00:00</th>\n",
              "      <td>8.0</td>\n",
              "      <td>-23</td>\n",
              "      <td>-2.0</td>\n",
              "      <td>1034.0</td>\n",
              "      <td>1.0</td>\n",
              "      <td>231.97</td>\n",
              "      <td>0</td>\n",
              "      <td>0</td>\n",
              "    </tr>\n",
              "    <tr>\n",
              "      <th>2014-12-31 20:00:00</th>\n",
              "      <td>10.0</td>\n",
              "      <td>-22</td>\n",
              "      <td>-3.0</td>\n",
              "      <td>1034.0</td>\n",
              "      <td>1.0</td>\n",
              "      <td>237.78</td>\n",
              "      <td>0</td>\n",
              "      <td>0</td>\n",
              "    </tr>\n",
              "    <tr>\n",
              "      <th>2014-12-31 21:00:00</th>\n",
              "      <td>10.0</td>\n",
              "      <td>-22</td>\n",
              "      <td>-3.0</td>\n",
              "      <td>1034.0</td>\n",
              "      <td>1.0</td>\n",
              "      <td>242.70</td>\n",
              "      <td>0</td>\n",
              "      <td>0</td>\n",
              "    </tr>\n",
              "    <tr>\n",
              "      <th>2014-12-31 22:00:00</th>\n",
              "      <td>8.0</td>\n",
              "      <td>-22</td>\n",
              "      <td>-4.0</td>\n",
              "      <td>1034.0</td>\n",
              "      <td>1.0</td>\n",
              "      <td>246.72</td>\n",
              "      <td>0</td>\n",
              "      <td>0</td>\n",
              "    </tr>\n",
              "    <tr>\n",
              "      <th>2014-12-31 23:00:00</th>\n",
              "      <td>12.0</td>\n",
              "      <td>-21</td>\n",
              "      <td>-3.0</td>\n",
              "      <td>1034.0</td>\n",
              "      <td>1.0</td>\n",
              "      <td>249.85</td>\n",
              "      <td>0</td>\n",
              "      <td>0</td>\n",
              "    </tr>\n",
              "  </tbody>\n",
              "</table>\n",
              "<p>43824 rows × 8 columns</p>\n",
              "</div>"
            ],
            "text/plain": [
              "                     pollution  dew  temp   press  wnd_dir  wnd_spd  snow  rain\n",
              "date                                                                           \n",
              "2010-01-01 00:00:00        0.0  -21 -11.0  1021.0      1.0     1.79     0     0\n",
              "2010-01-01 01:00:00        0.0  -21 -12.0  1020.0      1.0     4.92     0     0\n",
              "2010-01-01 02:00:00        0.0  -21 -11.0  1019.0      1.0     6.71     0     0\n",
              "2010-01-01 03:00:00        0.0  -21 -14.0  1019.0      1.0     9.84     0     0\n",
              "2010-01-01 04:00:00        0.0  -20 -12.0  1018.0      1.0    12.97     0     0\n",
              "...                        ...  ...   ...     ...      ...      ...   ...   ...\n",
              "2014-12-31 19:00:00        8.0  -23  -2.0  1034.0      1.0   231.97     0     0\n",
              "2014-12-31 20:00:00       10.0  -22  -3.0  1034.0      1.0   237.78     0     0\n",
              "2014-12-31 21:00:00       10.0  -22  -3.0  1034.0      1.0   242.70     0     0\n",
              "2014-12-31 22:00:00        8.0  -22  -4.0  1034.0      1.0   246.72     0     0\n",
              "2014-12-31 23:00:00       12.0  -21  -3.0  1034.0      1.0   249.85     0     0\n",
              "\n",
              "[43824 rows x 8 columns]"
            ]
          },
          "metadata": {
            "tags": []
          },
          "execution_count": 8
        }
      ]
    },
    {
      "cell_type": "markdown",
      "metadata": {
        "id": "T4KvAUK6_AMY"
      },
      "source": [
        "# **Step 3: Prepare for model**"
      ]
    },
    {
      "cell_type": "markdown",
      "metadata": {
        "id": "0OPB2s-yr1_3"
      },
      "source": [
        "## **Split training and testing data**"
      ]
    },
    {
      "cell_type": "code",
      "metadata": {
        "colab": {
          "base_uri": "https://localhost:8080/"
        },
        "id": "pv4Vp4MVrSnD",
        "outputId": "470d59a4-aa02-4d45-e4e6-758ab9547442"
      },
      "source": [
        "df_train = df_input[:int(0.9*(len(df_input)))]\n",
        "print('train shape: ', str(df_train.shape))\n",
        "df_test = df_input[int(0.9*(len(df_input))):]\n",
        "print('test shape: ', str(df_test.shape))"
      ],
      "execution_count": 9,
      "outputs": [
        {
          "output_type": "stream",
          "text": [
            "train shape:  (39441, 8)\n",
            "test shape:  (4383, 8)\n"
          ],
          "name": "stdout"
        }
      ]
    },
    {
      "cell_type": "markdown",
      "metadata": {
        "id": "5-OWLxN9_L8H"
      },
      "source": [
        "# **Step 4: Train VAR Model**"
      ]
    },
    {
      "cell_type": "markdown",
      "metadata": {
        "id": "0Sm0a-wQr9wz"
      },
      "source": [
        "## **Fit to model and find the best lag number**"
      ]
    },
    {
      "cell_type": "code",
      "metadata": {
        "id": "eG4rjYHQr0-e"
      },
      "source": [
        "model = VAR(df_train, freq=\"1H\")\n",
        "order = 48 # modify here to choose the order\n",
        "# for i in range(order):\n",
        "#     results = model.fit(i+1)\n",
        "#     print('Order = ', i+1)\n",
        "#     print('AIC: ', results.aic)\n",
        "#     print('BIC: ', results.bic)"
      ],
      "execution_count": 81,
      "outputs": []
    },
    {
      "cell_type": "code",
      "metadata": {
        "colab": {
          "base_uri": "https://localhost:8080/",
          "height": 1000
        },
        "id": "J0WrjTBhsVyQ",
        "outputId": "0fdd3b99-4d3a-4dea-d24a-3608cef0e90b"
      },
      "source": [
        "model.select_order(order).summary()"
      ],
      "execution_count": 82,
      "outputs": [
        {
          "output_type": "execute_result",
          "data": {
            "text/html": [
              "<table class=\"simpletable\">\n",
              "<caption>VAR Order Selection (* highlights the minimums)</caption>\n",
              "<tr>\n",
              "   <td></td>      <th>AIC</th>         <th>BIC</th>         <th>FPE</th>        <th>HQIC</th>    \n",
              "</tr>\n",
              "<tr>\n",
              "  <th>0</th>  <td>     29.17</td>  <td>     29.17</td>  <td> 4.654e+12</td>  <td>     29.17</td> \n",
              "</tr>\n",
              "<tr>\n",
              "  <th>1</th>  <td>     9.186</td>  <td>     9.201</td>  <td>     9758.</td>  <td>     9.191</td> \n",
              "</tr>\n",
              "<tr>\n",
              "  <th>2</th>  <td>     8.902</td>  <td>     8.931</td>  <td>     7344.</td>  <td>     8.911</td> \n",
              "</tr>\n",
              "<tr>\n",
              "  <th>3</th>  <td>     8.723</td>  <td>     8.766</td>  <td>     6142.</td>  <td>     8.737</td> \n",
              "</tr>\n",
              "<tr>\n",
              "  <th>4</th>  <td>     8.668</td>  <td>     8.725</td>  <td>     5811.</td>  <td>     8.686</td> \n",
              "</tr>\n",
              "<tr>\n",
              "  <th>5</th>  <td>     8.648</td>  <td>     8.719</td>  <td>     5697.</td>  <td>     8.670</td> \n",
              "</tr>\n",
              "<tr>\n",
              "  <th>6</th>  <td>     8.625</td>  <td>     8.711</td>  <td>     5570.</td>  <td>     8.652</td> \n",
              "</tr>\n",
              "<tr>\n",
              "  <th>7</th>  <td>     8.614</td>  <td>     8.713</td>  <td>     5509.</td>  <td>     8.646</td> \n",
              "</tr>\n",
              "<tr>\n",
              "  <th>8</th>  <td>     8.606</td>  <td>     8.719</td>  <td>     5463.</td>  <td>     8.642</td> \n",
              "</tr>\n",
              "<tr>\n",
              "  <th>9</th>  <td>     8.591</td>  <td>     8.719</td>  <td>     5386.</td>  <td>     8.632</td> \n",
              "</tr>\n",
              "<tr>\n",
              "  <th>10</th> <td>     8.573</td>  <td>     8.714</td>  <td>     5287.</td>  <td>     8.618</td> \n",
              "</tr>\n",
              "<tr>\n",
              "  <th>11</th> <td>     8.549</td>  <td>     8.704</td>  <td>     5162.</td>  <td>     8.598</td> \n",
              "</tr>\n",
              "<tr>\n",
              "  <th>12</th> <td>     8.518</td>  <td>     8.687</td>  <td>     5006.</td>  <td>     8.572</td> \n",
              "</tr>\n",
              "<tr>\n",
              "  <th>13</th> <td>     8.494</td>  <td>     8.677</td>  <td>     4885.</td>  <td>     8.552</td> \n",
              "</tr>\n",
              "<tr>\n",
              "  <th>14</th> <td>     8.469</td>  <td>     8.666</td>  <td>     4764.</td>  <td>     8.531</td> \n",
              "</tr>\n",
              "<tr>\n",
              "  <th>15</th> <td>     8.444</td>  <td>     8.654</td>  <td>     4645.</td>  <td>     8.510</td> \n",
              "</tr>\n",
              "<tr>\n",
              "  <th>16</th> <td>     8.422</td>  <td>     8.647</td>  <td>     4546.</td>  <td>     8.493</td> \n",
              "</tr>\n",
              "<tr>\n",
              "  <th>17</th> <td>     8.403</td>  <td>     8.642</td>  <td>     4460.</td>  <td>     8.479</td> \n",
              "</tr>\n",
              "<tr>\n",
              "  <th>18</th> <td>     8.385</td>  <td>     8.638</td>  <td>     4381.</td>  <td>     8.465</td> \n",
              "</tr>\n",
              "<tr>\n",
              "  <th>19</th> <td>     8.368</td>  <td>     8.634</td>  <td>     4305.</td>  <td>     8.452</td> \n",
              "</tr>\n",
              "<tr>\n",
              "  <th>20</th> <td>     8.351</td>  <td>     8.632</td>  <td>     4236.</td>  <td>     8.440</td> \n",
              "</tr>\n",
              "<tr>\n",
              "  <th>21</th> <td>     8.336</td>  <td>     8.630</td>  <td>     4171.</td>  <td>     8.429</td> \n",
              "</tr>\n",
              "<tr>\n",
              "  <th>22</th> <td>     8.327</td>  <td>     8.635</td>  <td>     4133.</td>  <td>     8.425</td> \n",
              "</tr>\n",
              "<tr>\n",
              "  <th>23</th> <td>     8.313</td>  <td>     8.636</td>  <td>     4078.</td>  <td>     8.415</td> \n",
              "</tr>\n",
              "<tr>\n",
              "  <th>24</th> <td>     8.294</td>  <td>     8.631</td>  <td>     4000.</td>  <td>     8.401</td> \n",
              "</tr>\n",
              "<tr>\n",
              "  <th>25</th> <td>     8.261</td>  <td>     8.611*</td> <td>     3870.</td>  <td>     8.372</td> \n",
              "</tr>\n",
              "<tr>\n",
              "  <th>26</th> <td>     8.248</td>  <td>     8.612</td>  <td>     3820.</td>  <td>     8.363</td> \n",
              "</tr>\n",
              "<tr>\n",
              "  <th>27</th> <td>     8.246</td>  <td>     8.625</td>  <td>     3814.</td>  <td>     8.366</td> \n",
              "</tr>\n",
              "<tr>\n",
              "  <th>28</th> <td>     8.242</td>  <td>     8.634</td>  <td>     3797.</td>  <td>     8.366</td> \n",
              "</tr>\n",
              "<tr>\n",
              "  <th>29</th> <td>     8.234</td>  <td>     8.640</td>  <td>     3768.</td>  <td>     8.363</td> \n",
              "</tr>\n",
              "<tr>\n",
              "  <th>30</th> <td>     8.228</td>  <td>     8.648</td>  <td>     3744.</td>  <td>     8.361*</td>\n",
              "</tr>\n",
              "<tr>\n",
              "  <th>31</th> <td>     8.227</td>  <td>     8.661</td>  <td>     3742.</td>  <td>     8.365</td> \n",
              "</tr>\n",
              "<tr>\n",
              "  <th>32</th> <td>     8.228</td>  <td>     8.676</td>  <td>     3745.</td>  <td>     8.370</td> \n",
              "</tr>\n",
              "<tr>\n",
              "  <th>33</th> <td>     8.228</td>  <td>     8.690</td>  <td>     3744.</td>  <td>     8.374</td> \n",
              "</tr>\n",
              "<tr>\n",
              "  <th>34</th> <td>     8.229</td>  <td>     8.705</td>  <td>     3749.</td>  <td>     8.380</td> \n",
              "</tr>\n",
              "<tr>\n",
              "  <th>35</th> <td>     8.230</td>  <td>     8.720</td>  <td>     3752.</td>  <td>     8.385</td> \n",
              "</tr>\n",
              "<tr>\n",
              "  <th>36</th> <td>     8.231</td>  <td>     8.735</td>  <td>     3755.</td>  <td>     8.390</td> \n",
              "</tr>\n",
              "<tr>\n",
              "  <th>37</th> <td>     8.231</td>  <td>     8.748</td>  <td>     3754.</td>  <td>     8.395</td> \n",
              "</tr>\n",
              "<tr>\n",
              "  <th>38</th> <td>     8.231</td>  <td>     8.763</td>  <td>     3757.</td>  <td>     8.400</td> \n",
              "</tr>\n",
              "<tr>\n",
              "  <th>39</th> <td>     8.231</td>  <td>     8.777</td>  <td>     3757.</td>  <td>     8.404</td> \n",
              "</tr>\n",
              "<tr>\n",
              "  <th>40</th> <td>     8.231</td>  <td>     8.790</td>  <td>     3756.</td>  <td>     8.408</td> \n",
              "</tr>\n",
              "<tr>\n",
              "  <th>41</th> <td>     8.232</td>  <td>     8.805</td>  <td>     3758.</td>  <td>     8.413</td> \n",
              "</tr>\n",
              "<tr>\n",
              "  <th>42</th> <td>     8.230</td>  <td>     8.818</td>  <td>     3754.</td>  <td>     8.416</td> \n",
              "</tr>\n",
              "<tr>\n",
              "  <th>43</th> <td>     8.231</td>  <td>     8.832</td>  <td>     3754.</td>  <td>     8.421</td> \n",
              "</tr>\n",
              "<tr>\n",
              "  <th>44</th> <td>     8.229</td>  <td>     8.845</td>  <td>     3750.</td>  <td>     8.424</td> \n",
              "</tr>\n",
              "<tr>\n",
              "  <th>45</th> <td>     8.229</td>  <td>     8.858</td>  <td>     3747.</td>  <td>     8.428</td> \n",
              "</tr>\n",
              "<tr>\n",
              "  <th>46</th> <td>     8.228</td>  <td>     8.871</td>  <td>     3744.</td>  <td>     8.432</td> \n",
              "</tr>\n",
              "<tr>\n",
              "  <th>47</th> <td>     8.226</td>  <td>     8.883</td>  <td>     3738.</td>  <td>     8.434</td> \n",
              "</tr>\n",
              "<tr>\n",
              "  <th>48</th> <td>     8.224*</td> <td>     8.895</td>  <td>     3728.*</td> <td>     8.436</td> \n",
              "</tr>\n",
              "</table>"
            ],
            "text/plain": [
              "<class 'statsmodels.iolib.table.SimpleTable'>"
            ]
          },
          "metadata": {
            "tags": []
          },
          "execution_count": 82
        }
      ]
    },
    {
      "cell_type": "markdown",
      "metadata": {
        "id": "6S8Sv-148evO"
      },
      "source": [
        "## **Choose lag = 25 and fit model again**"
      ]
    },
    {
      "cell_type": "code",
      "metadata": {
        "id": "L92xzK8RtrxR"
      },
      "source": [
        "model = VAR(df_train, freq=\"1H\")\n",
        "results = model.fit(25)"
      ],
      "execution_count": 46,
      "outputs": []
    },
    {
      "cell_type": "code",
      "metadata": {
        "id": "OoelXmk3tvns"
      },
      "source": [
        "# print(results.summary())  # show the weight of each variate in lag 25"
      ],
      "execution_count": 80,
      "outputs": []
    },
    {
      "cell_type": "code",
      "metadata": {
        "colab": {
          "base_uri": "https://localhost:8080/"
        },
        "id": "hwC2W7fIt_D3",
        "outputId": "179d7886-0bc8-4319-f292-7c129a20997c"
      },
      "source": [
        "lag=results.k_ar\n",
        "print(lag)"
      ],
      "execution_count": 16,
      "outputs": [
        {
          "output_type": "stream",
          "text": [
            "25\n"
          ],
          "name": "stdout"
        }
      ]
    },
    {
      "cell_type": "markdown",
      "metadata": {
        "id": "pIC6thQf_U2I"
      },
      "source": [
        "# **Step 5: Implement Data Forecasting**"
      ]
    },
    {
      "cell_type": "markdown",
      "metadata": {
        "id": "XOAMZ5EW8qxf"
      },
      "source": [
        "## **Do a small test**"
      ]
    },
    {
      "cell_type": "code",
      "metadata": {
        "colab": {
          "base_uri": "https://localhost:8080/"
        },
        "id": "XgQQwXIquEzR",
        "outputId": "980d6491-e8b6-4501-85ca-9db2463db0c1"
      },
      "source": [
        "pred = np.zeros(0)\n",
        "for i in range(25, 30):\n",
        "  pred_next = results.forecast(df_test.values[i-25:i],steps=1)[:, 0]\n",
        "  pred = np.append(pred, pred_next)\n",
        "pred"
      ],
      "execution_count": 84,
      "outputs": [
        {
          "output_type": "execute_result",
          "data": {
            "text/plain": [
              "array([266.31334138, 262.75512011, 261.36104564, 244.86235098,\n",
              "       221.32903262])"
            ]
          },
          "metadata": {
            "tags": []
          },
          "execution_count": 84
        }
      ]
    },
    {
      "cell_type": "code",
      "metadata": {
        "colab": {
          "base_uri": "https://localhost:8080/",
          "height": 235
        },
        "id": "-fOZ0amEuQNB",
        "outputId": "a50c48b8-c35c-4843-8ada-c589dfde6574"
      },
      "source": [
        "df_test[25:30]"
      ],
      "execution_count": 85,
      "outputs": [
        {
          "output_type": "execute_result",
          "data": {
            "text/html": [
              "<div>\n",
              "<style scoped>\n",
              "    .dataframe tbody tr th:only-of-type {\n",
              "        vertical-align: middle;\n",
              "    }\n",
              "\n",
              "    .dataframe tbody tr th {\n",
              "        vertical-align: top;\n",
              "    }\n",
              "\n",
              "    .dataframe thead th {\n",
              "        text-align: right;\n",
              "    }\n",
              "</style>\n",
              "<table border=\"1\" class=\"dataframe\">\n",
              "  <thead>\n",
              "    <tr style=\"text-align: right;\">\n",
              "      <th></th>\n",
              "      <th>pollution</th>\n",
              "      <th>dew</th>\n",
              "      <th>temp</th>\n",
              "      <th>press</th>\n",
              "      <th>wnd_dir</th>\n",
              "      <th>wnd_spd</th>\n",
              "      <th>snow</th>\n",
              "      <th>rain</th>\n",
              "    </tr>\n",
              "    <tr>\n",
              "      <th>date</th>\n",
              "      <th></th>\n",
              "      <th></th>\n",
              "      <th></th>\n",
              "      <th></th>\n",
              "      <th></th>\n",
              "      <th></th>\n",
              "      <th></th>\n",
              "      <th></th>\n",
              "    </tr>\n",
              "  </thead>\n",
              "  <tbody>\n",
              "    <tr>\n",
              "      <th>2014-07-03 10:00:00</th>\n",
              "      <td>277.0</td>\n",
              "      <td>22</td>\n",
              "      <td>26.0</td>\n",
              "      <td>1002.0</td>\n",
              "      <td>2.0</td>\n",
              "      <td>8.95</td>\n",
              "      <td>0</td>\n",
              "      <td>0</td>\n",
              "    </tr>\n",
              "    <tr>\n",
              "      <th>2014-07-03 11:00:00</th>\n",
              "      <td>274.0</td>\n",
              "      <td>22</td>\n",
              "      <td>27.0</td>\n",
              "      <td>1001.0</td>\n",
              "      <td>2.0</td>\n",
              "      <td>10.74</td>\n",
              "      <td>0</td>\n",
              "      <td>0</td>\n",
              "    </tr>\n",
              "    <tr>\n",
              "      <th>2014-07-03 12:00:00</th>\n",
              "      <td>256.0</td>\n",
              "      <td>22</td>\n",
              "      <td>28.0</td>\n",
              "      <td>1001.0</td>\n",
              "      <td>3.0</td>\n",
              "      <td>1.79</td>\n",
              "      <td>0</td>\n",
              "      <td>0</td>\n",
              "    </tr>\n",
              "    <tr>\n",
              "      <th>2014-07-03 13:00:00</th>\n",
              "      <td>232.0</td>\n",
              "      <td>22</td>\n",
              "      <td>28.0</td>\n",
              "      <td>1001.0</td>\n",
              "      <td>2.0</td>\n",
              "      <td>1.79</td>\n",
              "      <td>0</td>\n",
              "      <td>0</td>\n",
              "    </tr>\n",
              "    <tr>\n",
              "      <th>2014-07-03 14:00:00</th>\n",
              "      <td>212.0</td>\n",
              "      <td>22</td>\n",
              "      <td>28.0</td>\n",
              "      <td>1000.0</td>\n",
              "      <td>2.0</td>\n",
              "      <td>3.58</td>\n",
              "      <td>0</td>\n",
              "      <td>0</td>\n",
              "    </tr>\n",
              "  </tbody>\n",
              "</table>\n",
              "</div>"
            ],
            "text/plain": [
              "                     pollution  dew  temp   press  wnd_dir  wnd_spd  snow  rain\n",
              "date                                                                           \n",
              "2014-07-03 10:00:00      277.0   22  26.0  1002.0      2.0     8.95     0     0\n",
              "2014-07-03 11:00:00      274.0   22  27.0  1001.0      2.0    10.74     0     0\n",
              "2014-07-03 12:00:00      256.0   22  28.0  1001.0      3.0     1.79     0     0\n",
              "2014-07-03 13:00:00      232.0   22  28.0  1001.0      2.0     1.79     0     0\n",
              "2014-07-03 14:00:00      212.0   22  28.0  1000.0      2.0     3.58     0     0"
            ]
          },
          "metadata": {
            "tags": []
          },
          "execution_count": 85
        }
      ]
    },
    {
      "cell_type": "code",
      "metadata": {
        "colab": {
          "base_uri": "https://localhost:8080/",
          "height": 281
        },
        "id": "bL0mVQO-wZ_M",
        "outputId": "96a02ced-91ac-46d1-b833-f4b2206a77fc"
      },
      "source": [
        "plt.plot(df_test['pollution'].values[25:30], label='Ground Truth')\n",
        "plt.plot(pred, label='Prediction')\n",
        "plt.title(\"VAR\")\n",
        "plt.legend()\n",
        "plt.show()"
      ],
      "execution_count": 86,
      "outputs": [
        {
          "output_type": "display_data",
          "data": {
            "image/png": "[encoded data removed]",
            "text/plain": [
              "<Figure size 432x288 with 1 Axes>"
            ]
          },
          "metadata": {
            "tags": [],
            "needs_background": "light"
          }
        }
      ]
    },
    {
      "cell_type": "markdown",
      "metadata": {
        "id": "O09XQC7-9ThF"
      },
      "source": [
        "## **Show the coefficient and their P_Values**"
      ]
    },
    {
      "cell_type": "code",
      "metadata": {
        "colab": {
          "base_uri": "https://localhost:8080/",
          "height": 419
        },
        "id": "ErwsiPfyuZDi",
        "outputId": "f8f97462-49cd-459d-9595-7a0c9ef8679f"
      },
      "source": [
        "df_coeff=pd.DataFrame([results.params['pollution'],results.pvalues['pollution']]).T\n",
        "df_coeff"
      ],
      "execution_count": 22,
      "outputs": [
        {
          "output_type": "execute_result",
          "data": {
            "text/html": [
              "<div>\n",
              "<style scoped>\n",
              "    .dataframe tbody tr th:only-of-type {\n",
              "        vertical-align: middle;\n",
              "    }\n",
              "\n",
              "    .dataframe tbody tr th {\n",
              "        vertical-align: top;\n",
              "    }\n",
              "\n",
              "    .dataframe thead th {\n",
              "        text-align: right;\n",
              "    }\n",
              "</style>\n",
              "<table border=\"1\" class=\"dataframe\">\n",
              "  <thead>\n",
              "    <tr style=\"text-align: right;\">\n",
              "      <th></th>\n",
              "      <th>pollution</th>\n",
              "      <th>pollution</th>\n",
              "    </tr>\n",
              "  </thead>\n",
              "  <tbody>\n",
              "    <tr>\n",
              "      <th>const</th>\n",
              "      <td>16.573188</td>\n",
              "      <td>5.795308e-01</td>\n",
              "    </tr>\n",
              "    <tr>\n",
              "      <th>L1.pollution</th>\n",
              "      <td>0.914999</td>\n",
              "      <td>0.000000e+00</td>\n",
              "    </tr>\n",
              "    <tr>\n",
              "      <th>L1.dew</th>\n",
              "      <td>1.915898</td>\n",
              "      <td>5.375148e-72</td>\n",
              "    </tr>\n",
              "    <tr>\n",
              "      <th>L1.temp</th>\n",
              "      <td>-0.560451</td>\n",
              "      <td>2.842050e-06</td>\n",
              "    </tr>\n",
              "    <tr>\n",
              "      <th>L1.press</th>\n",
              "      <td>-1.477611</td>\n",
              "      <td>6.678004e-10</td>\n",
              "    </tr>\n",
              "    <tr>\n",
              "      <th>...</th>\n",
              "      <td>...</td>\n",
              "      <td>...</td>\n",
              "    </tr>\n",
              "    <tr>\n",
              "      <th>L25.press</th>\n",
              "      <td>-0.382733</td>\n",
              "      <td>1.079026e-01</td>\n",
              "    </tr>\n",
              "    <tr>\n",
              "      <th>L25.wnd_dir</th>\n",
              "      <td>-0.252301</td>\n",
              "      <td>1.385707e-01</td>\n",
              "    </tr>\n",
              "    <tr>\n",
              "      <th>L25.wnd_spd</th>\n",
              "      <td>0.008001</td>\n",
              "      <td>3.635420e-01</td>\n",
              "    </tr>\n",
              "    <tr>\n",
              "      <th>L25.snow</th>\n",
              "      <td>-0.462289</td>\n",
              "      <td>2.541066e-01</td>\n",
              "    </tr>\n",
              "    <tr>\n",
              "      <th>L25.rain</th>\n",
              "      <td>0.006173</td>\n",
              "      <td>9.776561e-01</td>\n",
              "    </tr>\n",
              "  </tbody>\n",
              "</table>\n",
              "<p>201 rows × 2 columns</p>\n",
              "</div>"
            ],
            "text/plain": [
              "              pollution     pollution\n",
              "const         16.573188  5.795308e-01\n",
              "L1.pollution   0.914999  0.000000e+00\n",
              "L1.dew         1.915898  5.375148e-72\n",
              "L1.temp       -0.560451  2.842050e-06\n",
              "L1.press      -1.477611  6.678004e-10\n",
              "...                 ...           ...\n",
              "L25.press     -0.382733  1.079026e-01\n",
              "L25.wnd_dir   -0.252301  1.385707e-01\n",
              "L25.wnd_spd    0.008001  3.635420e-01\n",
              "L25.snow      -0.462289  2.541066e-01\n",
              "L25.rain       0.006173  9.776561e-01\n",
              "\n",
              "[201 rows x 2 columns]"
            ]
          },
          "metadata": {
            "tags": []
          },
          "execution_count": 22
        }
      ]
    },
    {
      "cell_type": "markdown",
      "metadata": {
        "id": "7rokYw-I9c8x"
      },
      "source": [
        "## **Time series forecasting by VAR**"
      ]
    },
    {
      "cell_type": "code",
      "metadata": {
        "colab": {
          "base_uri": "https://localhost:8080/"
        },
        "id": "x-8KZns4vKoX",
        "outputId": "0b9b43e0-e96b-4e8f-8a0f-833e9e19a0f0"
      },
      "source": [
        "pred = np.zeros(25)\n",
        "print(\"test shape: \", str(df_test.shape))\n",
        "for i in range(25, int(len(df_test['pollution']))):\n",
        "  pred_next = results.forecast(df_test.values[i-25:i],steps=1)[:, 0]\n",
        "  pred = np.append(pred, pred_next)\n",
        "print(\"prediction shape: \", str(pred.shape))"
      ],
      "execution_count": 87,
      "outputs": [
        {
          "output_type": "stream",
          "text": [
            "test shape:  (4383, 8)\n",
            "prediction shape:  (4383,)\n"
          ],
          "name": "stdout"
        }
      ]
    },
    {
      "cell_type": "code",
      "metadata": {
        "colab": {
          "base_uri": "https://localhost:8080/",
          "height": 281
        },
        "id": "mm6vfqxDvqtD",
        "outputId": "3008ef96-9e30-456b-d037-46c5a2f2cd06"
      },
      "source": [
        "plt.plot(df_test['pollution'].values[25:200], label='Ground Truth')\n",
        "plt.plot(pred[25:200], label='Prediction')\n",
        "plt.title(\"VAR\")\n",
        "plt.legend()\n",
        "plt.show()"
      ],
      "execution_count": 91,
      "outputs": [
        {
          "output_type": "display_data",
          "data": {
            "image/png": "[encoded data removed]",
            "text/plain": [
              "<Figure size 432x288 with 1 Axes>"
            ]
          },
          "metadata": {
            "tags": [],
            "needs_background": "light"
          }
        }
      ]
    }
  ]
}