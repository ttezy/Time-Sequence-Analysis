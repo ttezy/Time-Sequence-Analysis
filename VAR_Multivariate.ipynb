{
  "nbformat": 4,
  "nbformat_minor": 0,
  "metadata": {
    "colab": {
      "name": "VAR-Multivariate.ipynb",
      "provenance": [],
      "collapsed_sections": [],
      "authorship_tag": "ABX9TyMTzaEvy5LcieLc5KacaYdD",
      "include_colab_link": true
    },
    "kernelspec": {
      "name": "python3",
      "display_name": "Python 3"
    },
    "language_info": {
      "name": "python"
    }
  },
  "cells": [
    {
      "cell_type": "markdown",
      "metadata": {
        "id": "view-in-github",
        "colab_type": "text"
      },
      "source": [
        "<a href=\"https://colab.research.google.com/github/ttezy/Time-Sequence-Analysis/blob/main/VAR_Multivariate.ipynb\" target=\"_parent\"><img src=\"https://colab.research.google.com/assets/colab-badge.svg\" alt=\"Open In Colab\"/></a>"
      ]
    },
    {
      "cell_type": "markdown",
      "metadata": {
        "id": "b8lVyLpj-hZS"
      },
      "source": [
        "# **Step 1: Load data**\n",
        "## **You may need to upload pollution.csv to /content/pollution.csv**"
      ]
    },
    {
      "cell_type": "markdown",
      "metadata": {
        "id": "fzV20K6HktZl"
      },
      "source": [
        "## **Import libs**"
      ]
    },
    {
      "cell_type": "code",
      "metadata": {
        "id": "-l70SkNiiAg2"
      },
      "source": [
        "import pandas as pd\n",
        "import matplotlib as mpl\n",
        "import matplotlib.pyplot as plt\n",
        "\n",
        "from sklearn.preprocessing import LabelEncoder\n",
        "\n",
        "import numpy as np\n",
        "\n",
        "from statsmodels.tsa.stattools import grangercausalitytests\n",
        "from statsmodels.tsa.stattools import adfuller\n",
        "\n",
        "from statsmodels.tsa.api import VAR\n",
        "\n",
        "mpl.rcParams['figure.figsize'] = (15, 8)  # modify here to change the size of figures\n",
        "mpl.rcParams['axes.grid'] = False"
      ],
      "execution_count": null,
      "outputs": []
    },
    {
      "cell_type": "markdown",
      "metadata": {
        "id": "q_2mELW4krSt"
      },
      "source": [
        "## **Load dataset**"
      ]
    },
    {
      "cell_type": "code",
      "metadata": {
        "id": "c9fUIddfiX9C"
      },
      "source": [
        "df=pd.read_csv('pollution.csv',header=0, index_col=0)\n",
        "df"
      ],
      "execution_count": null,
      "outputs": []
    },
    {
      "cell_type": "markdown",
      "metadata": {
        "id": "dcYeHGGqkwtG"
      },
      "source": [
        "## **Visualize data**"
      ]
    },
    {
      "cell_type": "code",
      "metadata": {
        "id": "GpBNYi_gkzWW"
      },
      "source": [
        "values = df.values\n",
        "# specify columns to plot\n",
        "groups = [0, 1, 2, 3, 5, 6, 7]\n",
        "i = 1\n",
        "# plot each column\n",
        "plt.figure()\n",
        "for group in groups:\n",
        "    plt.subplot(len(groups), 1, i)\n",
        "    plt.plot(values[:, group])\n",
        "    plt.title(df.columns[group], y=0.5, loc='right')\n",
        "    i += 1\n",
        "plt.show()"
      ],
      "execution_count": null,
      "outputs": []
    },
    {
      "cell_type": "markdown",
      "metadata": {
        "id": "gUt_ZSox-snz"
      },
      "source": [
        "# **Step 2: Data Property Analysis**"
      ]
    },
    {
      "cell_type": "markdown",
      "metadata": {
        "id": "tGrVmbyflS6D"
      },
      "source": [
        "## **Encode wind direction**"
      ]
    },
    {
      "cell_type": "code",
      "metadata": {
        "id": "ZPbyFthglRuE"
      },
      "source": [
        "# integer encode direction\n",
        "encoder = LabelEncoder()\n",
        "values[:, 4] = encoder.fit_transform(values[:, 4])\n",
        "# ensure all data is float\n",
        "values = values.astype('float32')\n",
        "\n",
        "df['wnd_dir'] = values[:, 4]\n",
        "\n",
        "df.head()"
      ],
      "execution_count": null,
      "outputs": []
    },
    {
      "cell_type": "markdown",
      "metadata": {
        "id": "WOXL0nWbo_jy"
      },
      "source": [
        "## **Check stationary or not**"
      ]
    },
    {
      "cell_type": "code",
      "metadata": {
        "colab": {
          "base_uri": "https://localhost:8080/"
        },
        "id": "r0iB3X1Yms8K",
        "outputId": "da62dca2-6608-4edd-8dd5-926dff3e534b"
      },
      "source": [
        "for i in range(len(df.columns)):\n",
        "  result = adfuller(df[df.columns[i]])\n",
        "\n",
        "  if result[1] > 0.05 :\n",
        "    print('{} - Series is not Stationary'.format(df.columns[i]))\n",
        "  else:\n",
        "    print('{} - Series is Stationary'.format(df.columns[i]))"
      ],
      "execution_count": 5,
      "outputs": [
        {
          "output_type": "stream",
          "text": [
            "pollution - Series is Stationary\n",
            "dew - Series is Stationary\n",
            "temp - Series is Stationary\n",
            "press - Series is Stationary\n",
            "wnd_dir - Series is Stationary\n",
            "wnd_spd - Series is Stationary\n",
            "snow - Series is Stationary\n",
            "rain - Series is Stationary\n"
          ],
          "name": "stdout"
        }
      ]
    },
    {
      "cell_type": "markdown",
      "metadata": {
        "id": "s3zlCCti8LML"
      },
      "source": [
        "## **Choose lag = 8 and show P_values**"
      ]
    },
    {
      "cell_type": "code",
      "metadata": {
        "id": "-elhUapfpwZz"
      },
      "source": [
        "max_lags=8  # modify here to choose the lag\n",
        "y='pollution'"
      ],
      "execution_count": 6,
      "outputs": []
    },
    {
      "cell_type": "code",
      "metadata": {
        "colab": {
          "base_uri": "https://localhost:8080/"
        },
        "id": "wiNLZXWfpyWC",
        "outputId": "f381c934-ff72-4141-f9c6-909cb4aa5c18"
      },
      "source": [
        "for i in range(len(df.columns)-1):\n",
        "  results=grangercausalitytests(df[[y,df.columns[i+1]]], max_lags, verbose=False)\n",
        "  p_values=[round(results[i+1][0]['ssr_ftest'][1],4) for i in range(max_lags)]\n",
        "  print('Column - {} : P_Values - {}'.format(df.columns[i+1],p_values))"
      ],
      "execution_count": 7,
      "outputs": [
        {
          "output_type": "stream",
          "text": [
            "Column - dew : P_Values - [0.0006, 0.0, 0.0, 0.0, 0.0, 0.0, 0.0, 0.0]\n",
            "Column - temp : P_Values - [0.0047, 0.0, 0.0, 0.0, 0.0, 0.0, 0.0, 0.0]\n",
            "Column - press : P_Values - [0.7517, 0.0933, 0.0001, 0.0, 0.0, 0.0, 0.0, 0.0]\n",
            "Column - wnd_dir : P_Values - [0.0, 0.0, 0.0, 0.0, 0.0, 0.0, 0.0, 0.0]\n",
            "Column - wnd_spd : P_Values - [0.0, 0.0, 0.0, 0.0, 0.0, 0.0, 0.0, 0.0]\n",
            "Column - snow : P_Values - [0.135, 0.3248, 0.2946, 0.4104, 0.419, 0.5307, 0.616, 0.6595]\n",
            "Column - rain : P_Values - [0.0, 0.0, 0.0, 0.0, 0.0, 0.0, 0.0, 0.0]\n"
          ],
          "name": "stdout"
        }
      ]
    },
    {
      "cell_type": "markdown",
      "metadata": {
        "id": "MFXDqkgwxZbU"
      },
      "source": [
        "## **Choose the input data**"
      ]
    },
    {
      "cell_type": "code",
      "metadata": {
        "colab": {
          "base_uri": "https://localhost:8080/",
          "height": 450
        },
        "id": "HxdntxYIqxk8",
        "outputId": "fbfb472c-3ab3-4204-ce78-a654d8d32658"
      },
      "source": [
        "df_input=df[['pollution','dew','temp', 'press', 'wnd_dir', 'wnd_spd', 'snow', 'rain']]  # modify here to choose the variate\n",
        "df_input"
      ],
      "execution_count": 8,
      "outputs": [
        {
          "output_type": "execute_result",
          "data": {
            "text/html": [
              "<div>\n",
              "<style scoped>\n",
              "    .dataframe tbody tr th:only-of-type {\n",
              "        vertical-align: middle;\n",
              "    }\n",
              "\n",
              "    .dataframe tbody tr th {\n",
              "        vertical-align: top;\n",
              "    }\n",
              "\n",
              "    .dataframe thead th {\n",
              "        text-align: right;\n",
              "    }\n",
              "</style>\n",
              "<table border=\"1\" class=\"dataframe\">\n",
              "  <thead>\n",
              "    <tr style=\"text-align: right;\">\n",
              "      <th></th>\n",
              "      <th>pollution</th>\n",
              "      <th>dew</th>\n",
              "      <th>temp</th>\n",
              "      <th>press</th>\n",
              "      <th>wnd_dir</th>\n",
              "      <th>wnd_spd</th>\n",
              "      <th>snow</th>\n",
              "      <th>rain</th>\n",
              "    </tr>\n",
              "    <tr>\n",
              "      <th>date</th>\n",
              "      <th></th>\n",
              "      <th></th>\n",
              "      <th></th>\n",
              "      <th></th>\n",
              "      <th></th>\n",
              "      <th></th>\n",
              "      <th></th>\n",
              "      <th></th>\n",
              "    </tr>\n",
              "  </thead>\n",
              "  <tbody>\n",
              "    <tr>\n",
              "      <th>2010-01-01 00:00:00</th>\n",
              "      <td>0.0</td>\n",
              "      <td>-21</td>\n",
              "      <td>-11.0</td>\n",
              "      <td>1021.0</td>\n",
              "      <td>1.0</td>\n",
              "      <td>1.79</td>\n",
              "      <td>0</td>\n",
              "      <td>0</td>\n",
              "    </tr>\n",
              "    <tr>\n",
              "      <th>2010-01-01 01:00:00</th>\n",
              "      <td>0.0</td>\n",
              "      <td>-21</td>\n",
              "      <td>-12.0</td>\n",
              "      <td>1020.0</td>\n",
              "      <td>1.0</td>\n",
              "      <td>4.92</td>\n",
              "      <td>0</td>\n",
              "      <td>0</td>\n",
              "    </tr>\n",
              "    <tr>\n",
              "      <th>2010-01-01 02:00:00</th>\n",
              "      <td>0.0</td>\n",
              "      <td>-21</td>\n",
              "      <td>-11.0</td>\n",
              "      <td>1019.0</td>\n",
              "      <td>1.0</td>\n",
              "      <td>6.71</td>\n",
              "      <td>0</td>\n",
              "      <td>0</td>\n",
              "    </tr>\n",
              "    <tr>\n",
              "      <th>2010-01-01 03:00:00</th>\n",
              "      <td>0.0</td>\n",
              "      <td>-21</td>\n",
              "      <td>-14.0</td>\n",
              "      <td>1019.0</td>\n",
              "      <td>1.0</td>\n",
              "      <td>9.84</td>\n",
              "      <td>0</td>\n",
              "      <td>0</td>\n",
              "    </tr>\n",
              "    <tr>\n",
              "      <th>2010-01-01 04:00:00</th>\n",
              "      <td>0.0</td>\n",
              "      <td>-20</td>\n",
              "      <td>-12.0</td>\n",
              "      <td>1018.0</td>\n",
              "      <td>1.0</td>\n",
              "      <td>12.97</td>\n",
              "      <td>0</td>\n",
              "      <td>0</td>\n",
              "    </tr>\n",
              "    <tr>\n",
              "      <th>...</th>\n",
              "      <td>...</td>\n",
              "      <td>...</td>\n",
              "      <td>...</td>\n",
              "      <td>...</td>\n",
              "      <td>...</td>\n",
              "      <td>...</td>\n",
              "      <td>...</td>\n",
              "      <td>...</td>\n",
              "    </tr>\n",
              "    <tr>\n",
              "      <th>2014-12-31 19:00:00</th>\n",
              "      <td>8.0</td>\n",
              "      <td>-23</td>\n",
              "      <td>-2.0</td>\n",
              "      <td>1034.0</td>\n",
              "      <td>1.0</td>\n",
              "      <td>231.97</td>\n",
              "      <td>0</td>\n",
              "      <td>0</td>\n",
              "    </tr>\n",
              "    <tr>\n",
              "      <th>2014-12-31 20:00:00</th>\n",
              "      <td>10.0</td>\n",
              "      <td>-22</td>\n",
              "      <td>-3.0</td>\n",
              "      <td>1034.0</td>\n",
              "      <td>1.0</td>\n",
              "      <td>237.78</td>\n",
              "      <td>0</td>\n",
              "      <td>0</td>\n",
              "    </tr>\n",
              "    <tr>\n",
              "      <th>2014-12-31 21:00:00</th>\n",
              "      <td>10.0</td>\n",
              "      <td>-22</td>\n",
              "      <td>-3.0</td>\n",
              "      <td>1034.0</td>\n",
              "      <td>1.0</td>\n",
              "      <td>242.70</td>\n",
              "      <td>0</td>\n",
              "      <td>0</td>\n",
              "    </tr>\n",
              "    <tr>\n",
              "      <th>2014-12-31 22:00:00</th>\n",
              "      <td>8.0</td>\n",
              "      <td>-22</td>\n",
              "      <td>-4.0</td>\n",
              "      <td>1034.0</td>\n",
              "      <td>1.0</td>\n",
              "      <td>246.72</td>\n",
              "      <td>0</td>\n",
              "      <td>0</td>\n",
              "    </tr>\n",
              "    <tr>\n",
              "      <th>2014-12-31 23:00:00</th>\n",
              "      <td>12.0</td>\n",
              "      <td>-21</td>\n",
              "      <td>-3.0</td>\n",
              "      <td>1034.0</td>\n",
              "      <td>1.0</td>\n",
              "      <td>249.85</td>\n",
              "      <td>0</td>\n",
              "      <td>0</td>\n",
              "    </tr>\n",
              "  </tbody>\n",
              "</table>\n",
              "<p>43824 rows × 8 columns</p>\n",
              "</div>"
            ],
            "text/plain": [
              "                     pollution  dew  temp   press  wnd_dir  wnd_spd  snow  rain\n",
              "date                                                                           \n",
              "2010-01-01 00:00:00        0.0  -21 -11.0  1021.0      1.0     1.79     0     0\n",
              "2010-01-01 01:00:00        0.0  -21 -12.0  1020.0      1.0     4.92     0     0\n",
              "2010-01-01 02:00:00        0.0  -21 -11.0  1019.0      1.0     6.71     0     0\n",
              "2010-01-01 03:00:00        0.0  -21 -14.0  1019.0      1.0     9.84     0     0\n",
              "2010-01-01 04:00:00        0.0  -20 -12.0  1018.0      1.0    12.97     0     0\n",
              "...                        ...  ...   ...     ...      ...      ...   ...   ...\n",
              "2014-12-31 19:00:00        8.0  -23  -2.0  1034.0      1.0   231.97     0     0\n",
              "2014-12-31 20:00:00       10.0  -22  -3.0  1034.0      1.0   237.78     0     0\n",
              "2014-12-31 21:00:00       10.0  -22  -3.0  1034.0      1.0   242.70     0     0\n",
              "2014-12-31 22:00:00        8.0  -22  -4.0  1034.0      1.0   246.72     0     0\n",
              "2014-12-31 23:00:00       12.0  -21  -3.0  1034.0      1.0   249.85     0     0\n",
              "\n",
              "[43824 rows x 8 columns]"
            ]
          },
          "metadata": {
            "tags": []
          },
          "execution_count": 8
        }
      ]
    },
    {
      "cell_type": "markdown",
      "metadata": {
        "id": "T4KvAUK6_AMY"
      },
      "source": [
        "# **Step 3: Prepare for model**"
      ]
    },
    {
      "cell_type": "markdown",
      "metadata": {
        "id": "0OPB2s-yr1_3"
      },
      "source": [
        "## **Split training and testing data**"
      ]
    },
    {
      "cell_type": "code",
      "metadata": {
        "colab": {
          "base_uri": "https://localhost:8080/"
        },
        "id": "pv4Vp4MVrSnD",
        "outputId": "51207177-0d66-4be1-bfd2-6a5547b1ebb5"
      },
      "source": [
        "df_train = df_input[:int(0.9*(len(df_input)))]\n",
        "print('train shape: ', str(df_train.shape))\n",
        "df_test = df_input[int(0.9*(len(df_input))):]\n",
        "print('test shape: ', str(df_test.shape))"
      ],
      "execution_count": 9,
      "outputs": [
        {
          "output_type": "stream",
          "text": [
            "train shape:  (39441, 8)\n",
            "test shape:  (4383, 8)\n"
          ],
          "name": "stdout"
        }
      ]
    },
    {
      "cell_type": "markdown",
      "metadata": {
        "id": "5-OWLxN9_L8H"
      },
      "source": [
        "# **Step 4: Train VAR Model**"
      ]
    },
    {
      "cell_type": "markdown",
      "metadata": {
        "id": "0Sm0a-wQr9wz"
      },
      "source": [
        "## **Fit to model and find the best lag number**"
      ]
    },
    {
      "cell_type": "code",
      "metadata": {
        "id": "eG4rjYHQr0-e"
      },
      "source": [
        "model = VAR(df_train, freq=\"1H\")\n",
        "order = 48 # modify here to choose the order\n",
        "# for i in range(order):\n",
        "#     results = model.fit(i+1)\n",
        "#     print('Order = ', i+1)\n",
        "#     print('AIC: ', results.aic)\n",
        "#     print('BIC: ', results.bic)"
      ],
      "execution_count": 10,
      "outputs": []
    },
    {
      "cell_type": "code",
      "metadata": {
        "id": "J0WrjTBhsVyQ"
      },
      "source": [
        "model.select_order(order).summary()"
      ],
      "execution_count": null,
      "outputs": []
    },
    {
      "cell_type": "markdown",
      "metadata": {
        "id": "6S8Sv-148evO"
      },
      "source": [
        "## **Choose lag = 25 and fit model again**"
      ]
    },
    {
      "cell_type": "code",
      "metadata": {
        "id": "L92xzK8RtrxR"
      },
      "source": [
        "model = VAR(df_train, freq=\"1H\")\n",
        "results = model.fit(25)"
      ],
      "execution_count": null,
      "outputs": []
    },
    {
      "cell_type": "code",
      "metadata": {
        "id": "OoelXmk3tvns"
      },
      "source": [
        "# print(results.summary())  # show the weight of each variate in lag 25"
      ],
      "execution_count": null,
      "outputs": []
    },
    {
      "cell_type": "code",
      "metadata": {
        "id": "hwC2W7fIt_D3"
      },
      "source": [
        "lag=results.k_ar\n",
        "print(lag)"
      ],
      "execution_count": null,
      "outputs": []
    },
    {
      "cell_type": "markdown",
      "metadata": {
        "id": "pIC6thQf_U2I"
      },
      "source": [
        "# **Step 5: Implement Data Forecasting**"
      ]
    },
    {
      "cell_type": "markdown",
      "metadata": {
        "id": "XOAMZ5EW8qxf"
      },
      "source": [
        "## **Do a small test**"
      ]
    },
    {
      "cell_type": "code",
      "metadata": {
        "id": "XgQQwXIquEzR"
      },
      "source": [
        "pred = np.zeros(0)\n",
        "for i in range(25, 30):\n",
        "  pred_next = results.forecast(df_test.values[i-25:i],steps=1)[:, 0]\n",
        "  pred = np.append(pred, pred_next)\n",
        "pred"
      ],
      "execution_count": null,
      "outputs": []
    },
    {
      "cell_type": "code",
      "metadata": {
        "id": "-fOZ0amEuQNB"
      },
      "source": [
        "df_test[25:30]"
      ],
      "execution_count": null,
      "outputs": []
    },
    {
      "cell_type": "code",
      "metadata": {
        "id": "bL0mVQO-wZ_M"
      },
      "source": [
        "plt.plot(df_test['pollution'].values[25:30], label='Ground Truth')\n",
        "plt.plot(pred, label='Prediction')\n",
        "plt.title(\"VAR\")\n",
        "plt.legend()\n",
        "plt.show()"
      ],
      "execution_count": null,
      "outputs": []
    },
    {
      "cell_type": "markdown",
      "metadata": {
        "id": "O09XQC7-9ThF"
      },
      "source": [
        "## **Show the coefficient and their P_Values**"
      ]
    },
    {
      "cell_type": "code",
      "metadata": {
        "id": "ErwsiPfyuZDi"
      },
      "source": [
        "df_coeff=pd.DataFrame([results.params['pollution'],results.pvalues['pollution']]).T\n",
        "df_coeff"
      ],
      "execution_count": null,
      "outputs": []
    },
    {
      "cell_type": "markdown",
      "metadata": {
        "id": "7rokYw-I9c8x"
      },
      "source": [
        "## **Time series forecasting by VAR**"
      ]
    },
    {
      "cell_type": "code",
      "metadata": {
        "id": "x-8KZns4vKoX"
      },
      "source": [
        "pred = np.zeros(25)\n",
        "print(\"test shape: \", str(df_test.shape))\n",
        "for i in range(25, int(len(df_test['pollution']))):\n",
        "  pred_next = results.forecast(df_test.values[i-25:i],steps=1)[:, 0]\n",
        "  pred = np.append(pred, pred_next)\n",
        "print(\"prediction shape: \", str(pred.shape))"
      ],
      "execution_count": null,
      "outputs": []
    },
    {
      "cell_type": "code",
      "metadata": {
        "id": "mm6vfqxDvqtD"
      },
      "source": [
        "plt.plot(df_test['pollution'].values[25:200], label='Ground Truth')\n",
        "plt.plot(pred[25:200], label='Prediction')\n",
        "plt.title(\"VAR\")\n",
        "plt.legend()\n",
        "plt.show()"
      ],
      "execution_count": null,
      "outputs": []
    },
    {
      "cell_type": "code",
      "metadata": {
        "id": "6HCMaaoJDobq"
      },
      "source": [
        "plt.plot(df_test['pollution'].values[25:2000], label='Ground Truth')\n",
        "plt.plot(pred[25:2000], label='Prediction')\n",
        "plt.title(\"VAR\")\n",
        "plt.legend()\n",
        "plt.show()"
      ],
      "execution_count": null,
      "outputs": []
    }
  ]
}